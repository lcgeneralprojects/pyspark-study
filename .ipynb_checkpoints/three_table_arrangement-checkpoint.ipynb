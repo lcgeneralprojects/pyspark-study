{
 "cells": [
  {
   "cell_type": "code",
   "execution_count": 1,
   "id": "2eb7a8c6-0a20-4153-9780-97b9961e7f17",
   "metadata": {},
   "outputs": [],
   "source": [
    "from pyspark.sql import SparkSession, Row"
   ]
  },
  {
   "cell_type": "code",
   "execution_count": 2,
   "id": "3063cb95-d49f-4e6e-a11e-ea196073f494",
   "metadata": {},
   "outputs": [],
   "source": [
    "spark = SparkSession.builder.appName('Practice').getOrCreate()"
   ]
  },
  {
   "cell_type": "code",
   "execution_count": 3,
   "id": "505cef41-6d1a-4fb3-b31f-fa9ab7195a2d",
   "metadata": {},
   "outputs": [],
   "source": [
    "df_object = spark.createDataFrame([\n",
    "    Row(id=1, name=\"abc\"),\n",
    "    Row(id=2, name=\"def\"),\n",
    "    Row(id=3, name=\"ghi\")\n",
    "])"
   ]
  },
  {
   "cell_type": "code",
   "execution_count": 4,
   "id": "711cc24a-6eb8-4a50-b07e-66c9fc4f3922",
   "metadata": {},
   "outputs": [],
   "source": [
    "df_junction = spark.createDataFrame([\n",
    "    Row(id=1, object_id=1, collection_id=1),\n",
    "    Row(id=2, object_id=1, collection_id=2),\n",
    "    Row(id=3, object_id=1, collection_id=3),\n",
    "    Row(id=4, object_id=2, collection_id=3)\n",
    "])"
   ]
  },
  {
   "cell_type": "code",
   "execution_count": 5,
   "id": "cbc7f3ec-9ea1-4702-b8af-7c71f3299bb7",
   "metadata": {},
   "outputs": [],
   "source": [
    "df_collection = spark.createDataFrame([\n",
    "    Row(id=1, name=\"category a\"),\n",
    "    Row(id=2, name=\"category b\"),\n",
    "    Row(id=3, name=\"category c or d\")\n",
    "])"
   ]
  },
  {
   "cell_type": "code",
   "execution_count": 6,
   "id": "94066489-c818-4c2c-a58e-64be08c154a2",
   "metadata": {},
   "outputs": [],
   "source": [
    "# SELECT Object.name, Collection.name FROM Object LEFT JOIN Junction ON Object.id = Junction.object_id LEFT JOIN Collection ON Junction.collection_id = Collection.id"
   ]
  },
  {
   "cell_type": "code",
   "execution_count": 7,
   "id": "d74cf0b1-2f5c-4296-b76b-54f1672c0bd7",
   "metadata": {},
   "outputs": [],
   "source": [
    "df_res = df_object.join(df_junction.join(df_collection, df_junction['collection_id'] == df_collection['id'], 'left'), df_object['id'] == df_junction['object_id'], 'left').select(df_object['name'].alias('object_name'), df_collection['name'].alias('collection_name'))"
   ]
  },
  {
   "cell_type": "code",
   "execution_count": 8,
   "id": "6185c616-0eba-4138-a818-ab4a4a645d9e",
   "metadata": {},
   "outputs": [
    {
     "name": "stdout",
     "output_type": "stream",
     "text": [
      "+-----------+---------------+\n",
      "|object_name|collection_name|\n",
      "+-----------+---------------+\n",
      "|        abc|category c or d|\n",
      "|        abc|     category b|\n",
      "|        abc|     category a|\n",
      "|        def|category c or d|\n",
      "|        ghi|           NULL|\n",
      "+-----------+---------------+\n",
      "\n"
     ]
    }
   ],
   "source": [
    "df_res.show()"
   ]
  },
  {
   "cell_type": "code",
   "execution_count": null,
   "id": "63d4aab2-bb3b-4877-a24b-121102cafef4",
   "metadata": {},
   "outputs": [],
   "source": []
  }
 ],
 "metadata": {
  "kernelspec": {
   "display_name": "Python 3 (ipykernel)",
   "language": "python",
   "name": "python3"
  },
  "language_info": {
   "codemirror_mode": {
    "name": "ipython",
    "version": 3
   },
   "file_extension": ".py",
   "mimetype": "text/x-python",
   "name": "python",
   "nbconvert_exporter": "python",
   "pygments_lexer": "ipython3",
   "version": "3.11.8"
  }
 },
 "nbformat": 4,
 "nbformat_minor": 5
}
