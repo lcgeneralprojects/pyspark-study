{
 "cells": [
  {
   "cell_type": "code",
   "execution_count": 23,
   "id": "01633dc0-64c1-4611-88e6-a532f2808cc9",
   "metadata": {},
   "outputs": [],
   "source": [
    "from pyspark.sql import SparkSession, Row"
   ]
  },
  {
   "cell_type": "code",
   "execution_count": 24,
   "id": "801a166f-ffca-494d-b7df-6027c5295f61",
   "metadata": {},
   "outputs": [],
   "source": [
    "from pyspark.sql.functions import array_contains"
   ]
  },
  {
   "cell_type": "code",
   "execution_count": 25,
   "id": "d310d6bb-5dc3-4274-a96c-f42541355147",
   "metadata": {},
   "outputs": [],
   "source": [
    "spark = SparkSession.builder.appName('Practice').getOrCreate()"
   ]
  },
  {
   "cell_type": "code",
   "execution_count": 26,
   "id": "76456e3d-7c2b-4ab5-b035-85aa5c731410",
   "metadata": {},
   "outputs": [],
   "source": [
    "df_object = spark.createDataFrame([\n",
    "    Row(id=1, name=\"abc\", collections=[1, 2, 3]),\n",
    "    Row(id=2, name=\"def\", collections=[3]),\n",
    "    Row(id=3, name=\"ghi\", collections=None)\n",
    "])"
   ]
  },
  {
   "cell_type": "code",
   "execution_count": 27,
   "id": "95fccc12-5a61-4ba7-81ee-adc3ce48d3c2",
   "metadata": {},
   "outputs": [],
   "source": [
    "df_collection = spark.createDataFrame([\n",
    "    Row(id=1, name=\"category a\", objects=[1]),\n",
    "    Row(id=2, name=\"category b\", objects=[1]),\n",
    "    Row(id=3, name=\"category c or d\", objects=[1, 2])\n",
    "])"
   ]
  },
  {
   "cell_type": "code",
   "execution_count": 28,
   "id": "df223006-9e28-473c-bad1-49dec0c3e3d8",
   "metadata": {},
   "outputs": [],
   "source": [
    "# SELECT Object.name, Collection.name FROM Object LEFT JOIN Collection ON Collection.id in Object.collections"
   ]
  },
  {
   "cell_type": "code",
   "execution_count": 29,
   "id": "1e540b7b-9164-45a2-8db7-b20c937f1fab",
   "metadata": {},
   "outputs": [],
   "source": [
    "df_res = df_object.join(df_collection, array_contains(df_object['collections'], df_collection['id']), 'left').select(df_object['name'].alias('object_name'), df_collection['name'])"
   ]
  },
  {
   "cell_type": "code",
   "execution_count": 33,
   "id": "72968e99-7c47-4c04-9069-fa9ef8d6297c",
   "metadata": {},
   "outputs": [
    {
     "name": "stdout",
     "output_type": "stream",
     "text": [
      "+-----------+---------------+\n",
      "|object_name|           name|\n",
      "+-----------+---------------+\n",
      "|        abc|     category a|\n",
      "|        abc|     category b|\n",
      "|        abc|category c or d|\n",
      "|        def|category c or d|\n",
      "|        ghi|           NULL|\n",
      "+-----------+---------------+\n",
      "\n"
     ]
    }
   ],
   "source": [
    "df_res.show()"
   ]
  },
  {
   "cell_type": "code",
   "execution_count": null,
   "id": "d3379842-359d-490e-a21a-02e2a53fae6b",
   "metadata": {},
   "outputs": [],
   "source": []
  }
 ],
 "metadata": {
  "kernelspec": {
   "display_name": "Python 3 (ipykernel)",
   "language": "python",
   "name": "python3"
  },
  "language_info": {
   "codemirror_mode": {
    "name": "ipython",
    "version": 3
   },
   "file_extension": ".py",
   "mimetype": "text/x-python",
   "name": "python",
   "nbconvert_exporter": "python",
   "pygments_lexer": "ipython3",
   "version": "3.11.8"
  }
 },
 "nbformat": 4,
 "nbformat_minor": 5
}
